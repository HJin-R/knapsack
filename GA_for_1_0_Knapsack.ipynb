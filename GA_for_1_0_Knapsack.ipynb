{
 "cells": [
  {
   "cell_type": "code",
   "execution_count": 182,
   "id": "728b6de7",
   "metadata": {},
   "outputs": [],
   "source": [
    "import numpy as np\n",
    "import pandas as pd\n",
    "import random\n",
    "import matplotlib.pyplot as plt\n",
    "%matplotlib inline"
   ]
  },
  {
   "cell_type": "markdown",
   "id": "e4ff255e",
   "metadata": {},
   "source": [
    "### Simple genetic algorithm for the 1-0 Knapsack problem\n",
    "#### Mutation rate and crossover point can be modified for possible improvement."
   ]
  },
  {
   "cell_type": "code",
   "execution_count": 207,
   "id": "7a846d55",
   "metadata": {},
   "outputs": [],
   "source": [
    "# Maximum weight for the knapsack\n",
    "MAX_WEIGHT = 1500"
   ]
  },
  {
   "cell_type": "code",
   "execution_count": 202,
   "id": "050beeac",
   "metadata": {},
   "outputs": [
    {
     "data": {
      "text/html": [
       "<div>\n",
       "<style scoped>\n",
       "    .dataframe tbody tr th:only-of-type {\n",
       "        vertical-align: middle;\n",
       "    }\n",
       "\n",
       "    .dataframe tbody tr th {\n",
       "        vertical-align: top;\n",
       "    }\n",
       "\n",
       "    .dataframe thead th {\n",
       "        text-align: right;\n",
       "    }\n",
       "</style>\n",
       "<table border=\"1\" class=\"dataframe\">\n",
       "  <thead>\n",
       "    <tr style=\"text-align: right;\">\n",
       "      <th></th>\n",
       "      <th>Item_id</th>\n",
       "      <th>item_weights</th>\n",
       "      <th>item_values</th>\n",
       "    </tr>\n",
       "  </thead>\n",
       "  <tbody>\n",
       "    <tr>\n",
       "      <th>0</th>\n",
       "      <td>1</td>\n",
       "      <td>21</td>\n",
       "      <td>96</td>\n",
       "    </tr>\n",
       "    <tr>\n",
       "      <th>1</th>\n",
       "      <td>2</td>\n",
       "      <td>12</td>\n",
       "      <td>99</td>\n",
       "    </tr>\n",
       "    <tr>\n",
       "      <th>2</th>\n",
       "      <td>3</td>\n",
       "      <td>30</td>\n",
       "      <td>52</td>\n",
       "    </tr>\n",
       "    <tr>\n",
       "      <th>3</th>\n",
       "      <td>4</td>\n",
       "      <td>24</td>\n",
       "      <td>100</td>\n",
       "    </tr>\n",
       "    <tr>\n",
       "      <th>4</th>\n",
       "      <td>5</td>\n",
       "      <td>45</td>\n",
       "      <td>46</td>\n",
       "    </tr>\n",
       "    <tr>\n",
       "      <th>...</th>\n",
       "      <td>...</td>\n",
       "      <td>...</td>\n",
       "      <td>...</td>\n",
       "    </tr>\n",
       "    <tr>\n",
       "      <th>95</th>\n",
       "      <td>96</td>\n",
       "      <td>47</td>\n",
       "      <td>93</td>\n",
       "    </tr>\n",
       "    <tr>\n",
       "      <th>96</th>\n",
       "      <td>97</td>\n",
       "      <td>28</td>\n",
       "      <td>6</td>\n",
       "    </tr>\n",
       "    <tr>\n",
       "      <th>97</th>\n",
       "      <td>98</td>\n",
       "      <td>24</td>\n",
       "      <td>53</td>\n",
       "    </tr>\n",
       "    <tr>\n",
       "      <th>98</th>\n",
       "      <td>99</td>\n",
       "      <td>25</td>\n",
       "      <td>12</td>\n",
       "    </tr>\n",
       "    <tr>\n",
       "      <th>99</th>\n",
       "      <td>100</td>\n",
       "      <td>16</td>\n",
       "      <td>39</td>\n",
       "    </tr>\n",
       "  </tbody>\n",
       "</table>\n",
       "<p>100 rows × 3 columns</p>\n",
       "</div>"
      ],
      "text/plain": [
       "    Item_id  item_weights  item_values\n",
       "0         1            21           96\n",
       "1         2            12           99\n",
       "2         3            30           52\n",
       "3         4            24          100\n",
       "4         5            45           46\n",
       "..      ...           ...          ...\n",
       "95       96            47           93\n",
       "96       97            28            6\n",
       "97       98            24           53\n",
       "98       99            25           12\n",
       "99      100            16           39\n",
       "\n",
       "[100 rows x 3 columns]"
      ]
     },
     "execution_count": 202,
     "metadata": {},
     "output_type": "execute_result"
    }
   ],
   "source": [
    "df = pd.read_csv('knapsack.csv')\n",
    "df.head(7)\n",
    "df"
   ]
  },
  {
   "cell_type": "code",
   "execution_count": 208,
   "id": "cd6aea05",
   "metadata": {},
   "outputs": [],
   "source": [
    "# initialise the random selection of items (either 1 or 0 )\n",
    "def initialise_pops():\n",
    "    config = [random.randint(0, 1) for _ in range(100)]\n",
    "    return config"
   ]
  },
  {
   "cell_type": "code",
   "execution_count": 161,
   "id": "9084d834",
   "metadata": {},
   "outputs": [],
   "source": [
    "# objective function: find better combination with the higher value between two\n",
    "def compare_fitness(one, two):\n",
    "    score_one = score_fitness(one)\n",
    "    score_two = score_fitness(two)\n",
    "    return one if score_one > score_two else two"
   ]
  },
  {
   "cell_type": "code",
   "execution_count": 209,
   "id": "07f8f5bf",
   "metadata": {},
   "outputs": [],
   "source": [
    "# fitness evaluation\n",
    "def score_fitness(config:list):\n",
    "    weight_sum = 0\n",
    "    values_sum = 0\n",
    "    i = 0\n",
    "   \n",
    "    while weight_sum < MAX_WEIGHT and i < 100:\n",
    "        if config[i] == 1:\n",
    "            weight_sum += df.iloc[i].item_weights\n",
    "            values_sum += df.iloc[i].item_values\n",
    "        i += 1\n",
    "    \n",
    "    return values_sum\n",
    "    \n",
    "    "
   ]
  },
  {
   "cell_type": "code",
   "execution_count": 210,
   "id": "29de9d31",
   "metadata": {},
   "outputs": [],
   "source": [
    "# crossover operation\n",
    "def crossover(a:list, b:list):\n",
    "    cpoint = int(len(a)/2)\n",
    "    p1 = a[:]\n",
    "    p2 = b[:]\n",
    "    crossed1 = p1[:cpoint] + p2[cpoint:]\n",
    "    crossed2 = p1[cpoint:] + p2[:cpoint]\n",
    "    return crossed1, crossed2\n",
    " "
   ]
  },
  {
   "cell_type": "code",
   "execution_count": 211,
   "id": "6b65e0c5",
   "metadata": {},
   "outputs": [],
   "source": [
    "# mutation opeation\n",
    "def mutate(a):\n",
    "    mutated = a[:]\n",
    "    i = random.randint(0, len(mutated) - 1)\n",
    "    mutated[i] = 0\n",
    "    return mutated"
   ]
  },
  {
   "cell_type": "code",
   "execution_count": 190,
   "id": "0c870b4a",
   "metadata": {},
   "outputs": [],
   "source": [
    "# main function to generate solutions\n",
    "def generic_algorithm_kanpsack(init_pop = 16, mutation=True):\n",
    "    pops =[initialise_pops() for p in range(init_pop)]\n",
    "    \n",
    "    best_score = 0\n",
    "    best_pop = []\n",
    "    for i in range(init_pop - 3):\n",
    "        #first gen\n",
    "        first_gen_one = compare_fitness(pops[i], pops[i+1])\n",
    "        first_gen_two = compare_fitness(pops[i+2], pops[i+3])\n",
    "        \n",
    "        second_one, second_two = crossover(first_gen_one, first_gen_two)\n",
    "        \n",
    "        current_best = compare_fitness(second_one, second_two)\n",
    "        current_best_score = score_fitness(current_best)\n",
    "        if mutation:\n",
    "            current_best = mutate(current_best)\n",
    "            current_best_score = score_fitness(current_best)\n",
    "        \n",
    "        if current_best_score > best_score:\n",
    "            best_score = current_best_score\n",
    "            best_pops = current_best\n",
    "            \n",
    "#     print(f'best score = {best_score}')\n",
    "    return best_score\n",
    "        \n",
    "        "
   ]
  },
  {
   "cell_type": "code",
   "execution_count": null,
   "id": "902f1c48",
   "metadata": {},
   "outputs": [],
   "source": []
  },
  {
   "cell_type": "code",
   "execution_count": 212,
   "id": "c3944193",
   "metadata": {},
   "outputs": [],
   "source": [
    "# display solutions and plot\n",
    "def display_knapsack_values(iters=30):\n",
    "\n",
    "    results= []\n",
    "    for i in range(iters):\n",
    "        results.append(generic_algorithm_kanpsack())\n",
    "\n",
    "    plot_data = pd.DataFrame({'knapsack values': results, 'iterations': np.arange(1,iters+1,1, dtype=int)},\n",
    "                            index=range(iters))\n",
    "\n",
    "    print(plot_data)\n",
    "    mean_val = np.mean(plot_data['knapsack values'])\n",
    "    median_val = np.median(plot_data['knapsack values'])\n",
    "    print('**********************************')\n",
    "    print(f'Average Value:{round(mean_val, 2)}')\n",
    "    print(f'Median Value:{median_val}')\n",
    "\n",
    "    #styling\n",
    "    plt.title('Knapsack Values', fontsize=17)\n",
    "    plt.xlabel('Iterations', fontsize = 14)\n",
    "    plt.ylabel('Values', fontsize = 14)\n",
    "\n",
    "    plt.xticks(fontsize=14)\n",
    "    plt.yticks(fontsize=14)\n",
    "    plt.style.use('classic')\n",
    "\n",
    "    #display\n",
    "    plt.plot( plot_data['iterations'], plot_data['knapsack values'], color='#cc66ff', linewidth=3)\n",
    "    plt.show()\n"
   ]
  },
  {
   "cell_type": "code",
   "execution_count": 213,
   "id": "be6e5fec",
   "metadata": {},
   "outputs": [
    {
     "name": "stdout",
     "output_type": "stream",
     "text": [
      "    knapsack values  iterations\n",
      "0              3201           1\n",
      "1              3094           2\n",
      "2              3251           3\n",
      "3              3266           4\n",
      "4              3186           5\n",
      "5              3382           6\n",
      "6              3264           7\n",
      "7              3191           8\n",
      "8              3094           9\n",
      "9              3134          10\n",
      "10             3196          11\n",
      "11             3065          12\n",
      "12             3314          13\n",
      "13             3116          14\n",
      "14             3216          15\n",
      "15             3078          16\n",
      "16             3237          17\n",
      "17             3195          18\n",
      "18             3360          19\n",
      "19             3300          20\n",
      "20             3033          21\n",
      "21             3209          22\n",
      "22             3493          23\n",
      "23             3139          24\n",
      "24             3113          25\n",
      "25             3074          26\n",
      "26             3359          27\n",
      "27             3045          28\n",
      "28             3194          29\n",
      "29             3318          30\n",
      "**********************************\n",
      "Average Value:3203.9\n",
      "Median Value:3195.5\n"
     ]
    },
    {
     "data": {
      "image/png": "[encoded data removed]",
      "text/plain": [
       "<Figure size 640x480 with 1 Axes>"
      ]
     },
     "metadata": {},
     "output_type": "display_data"
    }
   ],
   "source": [
    "display_knapsack_values(iters=30)"
   ]
  },
  {
   "cell_type": "code",
   "execution_count": null,
   "id": "da472086",
   "metadata": {},
   "outputs": [],
   "source": []
  }
 ],
 "metadata": {
  "kernelspec": {
   "display_name": "Python 3 (ipykernel)",
   "language": "python",
   "name": "python3"
  },
  "language_info": {
   "codemirror_mode": {
    "name": "ipython",
    "version": 3
   },
   "file_extension": ".py",
   "mimetype": "text/x-python",
   "name": "python",
   "nbconvert_exporter": "python",
   "pygments_lexer": "ipython3",
   "version": "3.10.9"
  }
 },
 "nbformat": 4,
 "nbformat_minor": 5
}
